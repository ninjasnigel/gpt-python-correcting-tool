{
 "cells": [
  {
   "cell_type": "code",
   "execution_count": 4,
   "metadata": {},
   "outputs": [
    {
     "ename": "ValueError",
     "evalue": "invalid literal for int() with base 10: '3I33'",
     "output_type": "error",
     "traceback": [
      "\u001b[0;31m---------------------------------------------------------------------------\u001b[0m",
      "\u001b[0;31mValueError\u001b[0m                                Traceback (most recent call last)",
      "Cell \u001b[0;32mIn[4], line 12\u001b[0m\n\u001b[1;32m      9\u001b[0m     \u001b[39mreturn\u001b[39;00m \u001b[39mFalse\u001b[39;00m\n\u001b[1;32m     11\u001b[0m \u001b[39mif\u001b[39;00m \u001b[39m__name__\u001b[39m \u001b[39m==\u001b[39m \u001b[39m\"\u001b[39m\u001b[39m__main__\u001b[39m\u001b[39m\"\u001b[39m:\n\u001b[0;32m---> 12\u001b[0m     main()\n",
      "Cell \u001b[0;32mIn[4], line 8\u001b[0m, in \u001b[0;36mmain\u001b[0;34m()\u001b[0m\n\u001b[1;32m      7\u001b[0m \u001b[39mdef\u001b[39;00m \u001b[39mmain\u001b[39m():\n\u001b[0;32m----> 8\u001b[0m     tests\u001b[39m.\u001b[39;49mtest1\u001b[39m.\u001b[39;49mtest(for_correction\u001b[39m.\u001b[39;49mcode1\u001b[39m.\u001b[39;49mmultiply)\n\u001b[1;32m      9\u001b[0m     \u001b[39mreturn\u001b[39;00m \u001b[39mFalse\u001b[39;00m\n",
      "File \u001b[0;32m~/proj/gpt-python-correcting-tool/tests/test1.py:10\u001b[0m, in \u001b[0;36mtest\u001b[0;34m(func)\u001b[0m\n\u001b[1;32m      8\u001b[0m \u001b[39massert\u001b[39;00m func(\u001b[39m9999999999\u001b[39m) \u001b[39m==\u001b[39m \u001b[39mTrue\u001b[39;00m, \u001b[39m\"\u001b[39m\u001b[39mInput 9999999999 should return True\u001b[39m\u001b[39m\"\u001b[39m\n\u001b[1;32m      9\u001b[0m \u001b[39massert\u001b[39;00m func(\u001b[39m99\u001b[39m) \u001b[39m==\u001b[39m \u001b[39mTrue\u001b[39;00m, \u001b[39m\"\u001b[39m\u001b[39mInput 99 should return True\u001b[39m\u001b[39m\"\u001b[39m\n\u001b[0;32m---> 10\u001b[0m \u001b[39massert\u001b[39;00m func(\u001b[39m\"\u001b[39;49m\u001b[39m3I33\u001b[39;49m\u001b[39m\"\u001b[39;49m) \u001b[39m==\u001b[39m \u001b[39mFalse\u001b[39;00m, \u001b[39m\"\u001b[39m\u001b[39mInput \u001b[39m\u001b[39m'\u001b[39m\u001b[39m13I5\u001b[39m\u001b[39m'\u001b[39m\u001b[39m should return False\u001b[39m\u001b[39m\"\u001b[39m\n\u001b[1;32m     11\u001b[0m \u001b[39massert\u001b[39;00m func(\u001b[39m\"\u001b[39m\u001b[39m9hejärjagivägen?9\u001b[39m\u001b[39m\"\u001b[39m) \u001b[39m==\u001b[39m \u001b[39mTrue\u001b[39;00m, \u001b[39m\"\u001b[39m\u001b[39mInput \u001b[39m\u001b[39m'\u001b[39m\u001b[39m9hejärjagivägen?9\u001b[39m\u001b[39m'\u001b[39m\u001b[39m should return True\u001b[39m\u001b[39m\"\u001b[39m\n\u001b[1;32m     12\u001b[0m \u001b[39mprint\u001b[39m(\u001b[39m\"\u001b[39m\u001b[39mAll tests passed!\u001b[39m\u001b[39m\"\u001b[39m)\n",
      "File \u001b[0;32m~/proj/gpt-python-correcting-tool/for_correction/code1.py:8\u001b[0m, in \u001b[0;36mmultiply\u001b[0;34m(num)\u001b[0m\n\u001b[1;32m      6\u001b[0m     \u001b[39melse\u001b[39;00m:\n\u001b[1;32m      7\u001b[0m         prod \u001b[39m*\u001b[39m\u001b[39m=\u001b[39m \u001b[39mint\u001b[39m(digit)\n\u001b[0;32m----> 8\u001b[0m \u001b[39mreturn\u001b[39;00m prod \u001b[39m>\u001b[39m \u001b[39mint\u001b[39;49m(num)\u001b[39m/\u001b[39m\u001b[39m3\u001b[39m\n",
      "\u001b[0;31mValueError\u001b[0m: invalid literal for int() with base 10: '3I33'"
     ]
    }
   ],
   "source": [
    "#import all modules from for_correction\n",
    "import for_correction.code1\n",
    "import for_correction.code2\n",
    "import for_correction.code3\n",
    "import tests.test1\n",
    "\n",
    "def main():\n",
    "    tests.test1.test(for_correction.code1.multiply)\n",
    "    return False\n",
    "\n",
    "if __name__ == \"__main__\":\n",
    "    main()"
   ]
  }
 ],
 "metadata": {
  "kernelspec": {
   "display_name": "Python 3",
   "language": "python",
   "name": "python3"
  },
  "language_info": {
   "codemirror_mode": {
    "name": "ipython",
    "version": 3
   },
   "file_extension": ".py",
   "mimetype": "text/x-python",
   "name": "python",
   "nbconvert_exporter": "python",
   "pygments_lexer": "ipython3",
   "version": "3.10.6"
  },
  "orig_nbformat": 4
 },
 "nbformat": 4,
 "nbformat_minor": 2
}
